{
 "cells": [
  {
   "cell_type": "code",
   "execution_count": 1,
   "id": "c5fb08e7-07f1-4eec-87f1-1fcb39eac12a",
   "metadata": {},
   "outputs": [],
   "source": [
    "from pathlib import Path\n",
    "import os\n",
    "from ai_sentiment.scraper import PDFScraper\n",
    "from ai_sentiment.nlp import SentimentClassifier"
   ]
  },
  {
   "attachments": {},
   "cell_type": "markdown",
   "id": "d87350e4-378d-4ca0-8ea3-4e2a649aec33",
   "metadata": {
    "tags": []
   },
   "source": [
    "# Parse test PDF"
   ]
  },
  {
   "cell_type": "code",
   "execution_count": 2,
   "id": "6f8ff79c-5234-40df-814c-4826cc4a6c46",
   "metadata": {},
   "outputs": [],
   "source": [
    "# Path to scrapes to look at\n",
    "pdf_dir = Path(\"data/pdfs\")\n",
    "\n",
    "# Paywall blocks HTML scraping for nyt\n",
    "# csv_path = Path(\"notebooks/nyt_initial_sources.csv\")\n",
    "\n",
    "# Project root dir\n",
    "project_dir = Path(os.path.abspath(\"..\"))"
   ]
  },
  {
   "cell_type": "code",
   "execution_count": 3,
   "id": "17df88c5-a372-4a0d-9a47-d39a279076c8",
   "metadata": {},
   "outputs": [],
   "source": [
    "pdf_scraper = PDFScraper()\n",
    "\n",
    "pdf_scraper.queueDir(project_dir / pdf_dir)"
   ]
  },
  {
   "cell_type": "markdown",
   "id": "63a69ca2-f8ab-42ca-9531-587c01d55fc6",
   "metadata": {},
   "source": [
    "# Extract text articles"
   ]
  },
  {
   "cell_type": "code",
   "execution_count": 4,
   "id": "66170525-1f8f-49dd-bd2d-3d5e6138a602",
   "metadata": {},
   "outputs": [
    {
     "name": "stdout",
     "output_type": "stream",
     "text": [
      "parts ['\\n', 'https://www.wsj.com/articles/baidus-chatgpt-style-chatbot-will-be-no-magic-bullet-d26706e8', '\\n', 'MARKETS', 'HEARD ON THE STREET', '\\n', 'Baidu’s ChatGPT-Style Bot Will Be No', '\\n', 'Magic Bullet', '\\n', 'Whether  the Chines e company’s Ernie Bot can recharge stagnant', '\\n', 'advertising revenue is an open question', '\\n', 'Baidu CEO Robin Li says the comp any will integrate its ChatGPT-style chatbot into its search engine', '\\n', 'and other businesses.', '\\n', 'PHOTO: ', 'SUN YILEI\\x00REUTERS', '\\n', 'B y  ', 'J a c k y  W o n g', ' Follow', '\\n', 'Updated Feb. 22, 2023 10\\x0024 pm ET', '', '', '\\n', '', 'C h a t G P T — a n d  i t s  f e i s t i e r  r e l a t i v e ,  ', 't h e  n e w  B i n g', ' — h a v e  b e e n  l i g h t i n g  u p', '\\n', 'c o m p u t e r  s c r e e n s  r e c e n t l y .  C h i n a ’ s  s e a r c h  g i a n t  ', 'B a i d u', '  ', ' h o p e s  i t s', 'BIDU', ' ', '2 . 4 6', ' %', '']\n"
     ]
    }
   ],
   "source": [
    "targets = pdf_scraper.scrapeAll()"
   ]
  },
  {
   "cell_type": "markdown",
   "id": "a71486ce-550a-493c-b5cd-79bd931ac42f",
   "metadata": {},
   "source": [
    "So small issue with current implementation, seems like some websites (like the NYT) require users to enable js, etc. Might have to make a scraper for those specific sites. At least in the case of the NYT, they have an API that we could make a scraper around."
   ]
  },
  {
   "cell_type": "code",
   "execution_count": 5,
   "id": "43fd9a1f-d097-4d3a-901f-47fba5947cd9",
   "metadata": {
    "scrolled": true,
    "tags": []
   },
   "outputs": [
    {
     "data": {
      "text/plain": [
       "[]"
      ]
     },
     "execution_count": 5,
     "metadata": {},
     "output_type": "execute_result"
    }
   ],
   "source": [
    "targets"
   ]
  },
  {
   "cell_type": "code",
   "execution_count": 5,
   "id": "7f48342a-76cf-4d7c-8303-4359e294cd35",
   "metadata": {},
   "outputs": [],
   "source": [
    "target_path = Path(\"data/pdf_round_0_targets.yml\")\n",
    "PDFScraper.dumpTargets(project_dir / target_path, targets)"
   ]
  },
  {
   "cell_type": "markdown",
   "id": "898070dd-cf7d-45a3-aab3-0cca8ff96a0c",
   "metadata": {},
   "source": [
    "# Process sentiments"
   ]
  },
  {
   "cell_type": "code",
   "execution_count": 6,
   "id": "8470e9b3-10fc-4f8f-a7ad-3b181d726270",
   "metadata": {},
   "outputs": [],
   "source": [
    "nlper = SentimentClassifier()"
   ]
  },
  {
   "cell_type": "code",
   "execution_count": 7,
   "id": "dc235ef9-4d15-4997-a2f9-607974e72528",
   "metadata": {},
   "outputs": [],
   "source": [
    "results = nlper.processList(targets)"
   ]
  },
  {
   "cell_type": "code",
   "execution_count": 8,
   "id": "8fb77801-5119-4cb8-957f-2ee0c2f61fd4",
   "metadata": {},
   "outputs": [],
   "source": [
    "nlper.dumpResults(\"pdf_round_0_results\", results)"
   ]
  },
  {
   "cell_type": "code",
   "execution_count": null,
   "id": "c71eaf54-9a47-4a1f-ba84-1728fce34c03",
   "metadata": {},
   "outputs": [],
   "source": []
  }
 ],
 "metadata": {
  "kernelspec": {
   "display_name": "Python 3 (ipykernel)",
   "language": "python",
   "name": "python3"
  },
  "language_info": {
   "codemirror_mode": {
    "name": "ipython",
    "version": 3
   },
   "file_extension": ".py",
   "mimetype": "text/x-python",
   "name": "python",
   "nbconvert_exporter": "python",
   "pygments_lexer": "ipython3",
   "version": "3.10.9"
  }
 },
 "nbformat": 4,
 "nbformat_minor": 5
}

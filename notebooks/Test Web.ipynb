{
 "cells": [
  {
   "cell_type": "code",
   "execution_count": 1,
   "id": "d7605438-814b-496f-b6e4-3818045d49b1",
   "metadata": {
    "ExecuteTime": {
     "end_time": "2023-03-19T20:11:35.386792Z",
     "start_time": "2023-03-19T20:11:32.263246Z"
    }
   },
   "outputs": [],
   "source": [
    "from pathlib import Path\n",
    "import os\n",
    "from ai_sentiment.scraper import WebScraper\n",
    "from ai_sentiment.nlp import SentimentClassifier\n",
    "import requests\n",
    "import pandas as pd\n",
    "from bs4 import BeautifulSoup"
   ]
  },
  {
   "cell_type": "raw",
   "id": "550f5b1c-4c44-4b76-9824-a99483a4c173",
   "metadata": {},
   "source": [
    "# To test\n",
    "\n",
    "1. Soup parser, what kind of content am I getting?\n",
    "\n",
    "Create parser, add test csv to load queue, manually test method in cell"
   ]
  },
  {
   "cell_type": "markdown",
   "id": "377080d4-5a48-4f8e-84c1-e6b911dad3ef",
   "metadata": {
    "tags": []
   },
   "source": [
    "# Parse test CSV of sources"
   ]
  },
  {
   "cell_type": "code",
   "execution_count": 2,
   "id": "6f8ff79c-5234-40df-814c-4826cc4a6c46",
   "metadata": {},
   "outputs": [],
   "source": [
    "# Path to scrapes to look at\n",
    "csv_path = Path(\"data/web_initial_sources.csv\")\n",
    "\n",
    "# Paywall blocks HTML scraping for nyt\n",
    "# csv_path = Path(\"data/nyt_initial_sources.csv\")\n",
    "\n",
    "# Project root dir\n",
    "project_dir = Path(os.path.abspath(\"..\"))"
   ]
  },
  {
   "cell_type": "code",
   "execution_count": 3,
   "id": "17df88c5-a372-4a0d-9a47-d39a279076c8",
   "metadata": {},
   "outputs": [],
   "source": [
    "web_scraper = WebScraper()\n",
    "web_scraper.queueWebsiteCSV(project_dir / csv_path)"
   ]
  },
  {
   "cell_type": "code",
   "execution_count": 4,
   "id": "81f8cdff-de0a-4b20-a0a7-47f78546b3a3",
   "metadata": {},
   "outputs": [],
   "source": [
    "cur_element = web_scraper.queue.popleft()"
   ]
  },
  {
   "cell_type": "code",
   "execution_count": 5,
   "id": "2f6bda89-5289-4676-938f-10b213fc0e44",
   "metadata": {},
   "outputs": [],
   "source": [
    "# Taken from https://importsem.com/evaluate-sentiment-analysis-in-bulk-with-spacy-and-python/\n",
    "headers = {\n",
    "    'user-agent': 'Mozilla/5.0 (Macintosh; Intel Mac OS X 10_13_0) AppleWebKit/537.36 (KHTML, like Gecko) Chrome/78.0.3904.108 Safari/537.36'}\n",
    "res = requests.get(cur_element.url, headers=headers)\n",
    "html_page = res.text\n",
    "\n",
    "soup = BeautifulSoup(html_page, 'html.parser')\n",
    "input_soup = soup([\"script\", \"style\", \"meta\", \"label\", \"header\", \"footer\"])\n",
    "for script in input_soup:\n",
    "    script.decompose()\n",
    "page_text = (soup.get_text()).lower()\n",
    "page_text = page_text.strip().replace(\"  \", \"\")\n",
    "page_text = \"\".join(\n",
    "    [s for s in page_text.splitlines(True) if s.strip(\"\\r\\n\")])"
   ]
  },
  {
   "cell_type": "code",
   "execution_count": 6,
   "id": "2213291f-ea85-43e5-8cc0-21b45172202a",
   "metadata": {},
   "outputs": [
    {
     "ename": "AttributeError",
     "evalue": "'NoneType' object has no attribute 'get_text'",
     "output_type": "error",
     "traceback": [
      "\u001b[0;31m---------------------------------------------------------------------------\u001b[0m",
      "\u001b[0;31mAttributeError\u001b[0m                            Traceback (most recent call last)",
      "\u001b[1;32m/home/therring/Workspace/comp_603/notebooks/Test Web.ipynb Cell 8\u001b[0m in \u001b[0;36m<cell line: 18>\u001b[0;34m()\u001b[0m\n\u001b[1;32m     <a href='vscode-notebook-cell://tunnel%2Bpop-os/home/therring/Workspace/comp_603/notebooks/Test%20Web.ipynb#X10sdnNjb2RlLXJlbW90ZQ%3D%3D?line=15'>16</a>\u001b[0m sauce \u001b[39m=\u001b[39m BeautifulSoup(res\u001b[39m.\u001b[39mtext,\u001b[39m\"\u001b[39m\u001b[39mhtml.parser\u001b[39m\u001b[39m\"\u001b[39m)\n\u001b[1;32m     <a href='vscode-notebook-cell://tunnel%2Bpop-os/home/therring/Workspace/comp_603/notebooks/Test%20Web.ipynb#X10sdnNjb2RlLXJlbW90ZQ%3D%3D?line=16'>17</a>\u001b[0m contentTag \u001b[39m=\u001b[39m sauce\u001b[39m.\u001b[39mfind(\u001b[39m\"\u001b[39m\u001b[39mdiv\u001b[39m\u001b[39m\"\u001b[39m,{\u001b[39m\"\u001b[39m\u001b[39mclass\u001b[39m\u001b[39m\"\u001b[39m:\u001b[39m\"\u001b[39m\u001b[39mwsj-snippet-body\u001b[39m\u001b[39m\"\u001b[39m})\n\u001b[0;32m---> <a href='vscode-notebook-cell://tunnel%2Bpop-os/home/therring/Workspace/comp_603/notebooks/Test%20Web.ipynb#X10sdnNjb2RlLXJlbW90ZQ%3D%3D?line=17'>18</a>\u001b[0m page_text \u001b[39m=\u001b[39m contentTag\u001b[39m.\u001b[39;49mget_text()\u001b[39m.\u001b[39mstrip()\n",
      "\u001b[0;31mAttributeError\u001b[0m: 'NoneType' object has no attribute 'get_text'"
     ]
    }
   ],
   "source": [
    "headers = {\n",
    "    'user-agent': 'Mozilla/5.0 (Macintosh; Intel Mac OS X 10_13_0) AppleWebKit/537.36 (KHTML, like Gecko) Chrome/78.0.3904.108 Safari/537.36'}\n",
    "res = requests.get(cur_element.url, headers=headers)\n",
    "soup = BeautifulSoup(res.text,\"html.parser\")\n",
    "\n",
    "for item in soup.find_all(\"a\",{\"class\":\"headline-image\"},href=True):\n",
    "    _href = item.get(\"href\")\n",
    "    try:\n",
    "        resp = requests.get(_href)\n",
    "    except Exception as e:\n",
    "        try:\n",
    "            resp = requests.get(\"https://www.wsj.com\"+_href)\n",
    "        except Exception as e:\n",
    "            continue\n",
    "\n",
    "sauce = BeautifulSoup(res.text,\"html.parser\")\n",
    "contentTag = sauce.find(\"div\",{\"class\":\"wsj-snippet-body\"})\n",
    "page_text = contentTag.get_text().strip()\n",
    "\n",
    "\n",
    "    \n"
   ]
  },
  {
   "cell_type": "code",
   "execution_count": null,
   "id": "46d00bff-cf5f-4a8c-94d8-0ee52fa13565",
   "metadata": {},
   "outputs": [
    {
     "data": {
      "text/plain": [
       "\"openai rolls out new gpt-4 version of chatbot chatgpt - wsjskip to main contentdow jones, a news corp companyabout wsjnews corp is a global, diversified media and information services company focused on creating and distributing authoritative and engaging content and other products and services.dow jonesbarron'sbigchartsdow jones businessesdow jones newswiresfactivafinancial newsmansion globalmarketwatchnewsmartnewsplusrisk & compliancewsj livewsj prowsj videowsj.comnews corpavailbusiness spectatorharpercollins publishershousingmakaannew york postproptigerrearealtor.comstoryfulthe australianthe sunthe timessubscribesign in\\nthis copy is for your personal, non-commercial use only. distribution and use of this material are governed by\\nour subscriber agreement and by copyright law. for non-personal use or to order multiple copies, please contact\\ndow jones reprints at 1-800-843-0008 or visit www.djreprints.com.\\nhttps://www.wsj.com/articles/openai-rolls-out-updated-version-of-viral-chatbot-chatgpt-f03fea27techconsumer technologyopenai rolls out new gpt-4 version of chatbot chatgptartificial intelligence company says newest technology is more powerful and less prone to problemschatgpt, openai’s new artificially intelligent chatbot, can write essays on complex topics. wsj’s joanna stern went back to high school ap literature for a day to see if she could pass the class using just ai. photo illustration: elena scottiby deepa seetharamanupdated march 15, 2023 8:52 am etprintlisten to article(2 minutes)the company behind the viral chatbot chatgpt launched a new version of its artificial intelligence technology on tuesday, saying it was more powerful and predictable than previous versions and capable of analyzing images and handling much larger blocks of text.the announcement from openai—a startup backed by billions of dollars from microsoft corp.—is the latest in a string of generative ai announcements as companies try to get ahead in the race to build and use the buzzy new technology.what's newssee moreubs agrees to buy credit suisse for more than $3 billion1 hour agoyellen, powell praise swiss authorities’ actionlive coveragefirst republic bank looms large for u.s. regulators after credit suisse sale1 hour agowhat's newsubs agrees to buy credit suisse for more than $3 billion1 hour agoyellen, powell praise swiss authorities’ actionlive coveragefirst republic bank looms large for u.s. regulators after credit suisse sale1 hour agosmaller banks’ role in economy means distress raises recession risks14 hours agocredit suisse, the risk-taking swiss banking giant, succumbs to crisis1 hour agosignature bank’s quirky mix of customers hastened its fall14 hours agothe rise and fall of silicon valley bankmarch 18, 2023fed raised concerns about svb’s risk management in 201924 mins agolive q&a monday13 hours agocontinue reading your article witha wsj subscriptionsubscribe nowalready a subscriber? sign insponsored offersmichael kors: michael kors promo code first order: sign up for korsvip + get 10% offjcpenney: jcpenney 30% off coupon todaytarget: target promo code: 20% off entire ordert.j. maxx: 10% off tj maxx coupon - rewards credit cardbest buy: deal of the day! claim as much as 50% off - best buy couponmacy's: macy's coupon - sign up to get 25% off next ordermost popular newsubs nears deal to take over credit suisseubs agrees to buy credit suisse for more than $3 billionthe math behind the new super commuteat the china-russia border, the xi-putin partnership shows signs of fraying the technology skills every employee should have todaymost popular opinionopinion: my struggle session at stanford law schoolopinion: the tyranny of the dei bureaucracyopinion: insurance companies are quietly fleeing californiaopinion: another banking crisis was predictableopinion: the icc is the wrong way to beat putinrecommended videos\\ncopyright ©2023 dow jones & company, inc. all rights reserved\\nthis copy is for your personal, non-commercial use only. distribution and use of this material are governed by\\nour subscriber agreement and by copyright law. for non-personal use or to order multiple copies, please contact\\ndow jones reprints at 1-800-843-0008 or visit www.djreprints.com.\""
      ]
     },
     "execution_count": 26,
     "metadata": {},
     "output_type": "execute_result"
    }
   ],
   "source": [
    "page_text"
   ]
  },
  {
   "cell_type": "code",
   "execution_count": null,
   "id": "629ed192-6aae-4369-b0d4-984ceb51341d",
   "metadata": {},
   "outputs": [
    {
     "name": "stdout",
     "output_type": "stream",
     "text": [
      "<html>\n",
      " <head>\n",
      "  <title>\n",
      "   My HTML Document\n",
      "  </title>\n",
      " </head>\n",
      " <body>\n",
      "  <p>\n",
      "   This is another paragraph.\n",
      "  </p>\n",
      " </body>\n",
      "</html>\n",
      "\n"
     ]
    }
   ],
   "source": [
    "from bs4 import BeautifulSoup\n",
    "\n",
    "# create a Beautiful Soup object representing an HTML document\n",
    "html_doc = \"\"\"\n",
    "<html>\n",
    "<head>\n",
    "<title>My HTML Document</title>\n",
    "</head>\n",
    "<body>\n",
    "<p>This is a paragraph.</p>\n",
    "<p>This is another paragraph.</p>\n",
    "</body>\n",
    "</html>\n",
    "\"\"\"\n",
    "\n",
    "soup = BeautifulSoup(html_doc, 'html.parser')\n",
    "\n",
    "# find the first paragraph tag and remove it from the document\n",
    "p_tag = soup.find('p')\n",
    "p_tag.decompose()\n",
    "\n",
    "# print the modified HTML document\n",
    "print(soup.prettify())\n"
   ]
  },
  {
   "cell_type": "code",
   "execution_count": null,
   "id": "2a24aa18-4d61-48c6-a6a8-c0cd2ade3e1b",
   "metadata": {},
   "outputs": [],
   "source": []
  }
 ],
 "metadata": {
  "kernelspec": {
   "display_name": "Python 3 (ipykernel)",
   "language": "python",
   "name": "python3"
  },
  "language_info": {
   "codemirror_mode": {
    "name": "ipython",
    "version": 3
   },
   "file_extension": ".py",
   "mimetype": "text/x-python",
   "name": "python",
   "nbconvert_exporter": "python",
   "pygments_lexer": "ipython3",
   "version": "3.10.9"
  }
 },
 "nbformat": 4,
 "nbformat_minor": 5
}

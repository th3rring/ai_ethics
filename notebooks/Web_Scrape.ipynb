{
 "cells": [
  {
   "cell_type": "code",
   "execution_count": 7,
   "id": "c5fb08e7-07f1-4eec-87f1-1fcb39eac12a",
   "metadata": {},
   "outputs": [],
   "source": [
    "from pathlib import Path\n",
    "import os\n",
    "from ai_sentiment.scraper import WebScraper\n",
    "from ai_sentiment.nlp import SentimentClassifier"
   ]
  },
  {
   "cell_type": "markdown",
   "id": "d87350e4-378d-4ca0-8ea3-4e2a649aec33",
   "metadata": {},
   "source": [
    "# Parse test CSV of New York Times AI articles"
   ]
  },
  {
   "cell_type": "code",
   "execution_count": 6,
   "id": "6f8ff79c-5234-40df-814c-4826cc4a6c46",
   "metadata": {},
   "outputs": [],
   "source": [
    "# Path to scrapes to look at\n",
    "csv_path = Path(\"notebooks/nyt_initial_sources.csv\")\n",
    "\n",
    "# Project root dir\n",
    "project_dir = Path(os.path.abspath(\"..\"))"
   ]
  },
  {
   "cell_type": "code",
   "execution_count": 3,
   "id": "17df88c5-a372-4a0d-9a47-d39a279076c8",
   "metadata": {},
   "outputs": [],
   "source": [
    "web_scraper = WebScraper()\n",
    "web_scraper.queueWebsiteCSV(project_dir / csv_path)"
   ]
  },
  {
   "cell_type": "markdown",
   "id": "63a69ca2-f8ab-42ca-9531-587c01d55fc6",
   "metadata": {},
   "source": [
    "# Extract text articles"
   ]
  },
  {
   "cell_type": "code",
   "execution_count": 4,
   "id": "66170525-1f8f-49dd-bd2d-3d5e6138a602",
   "metadata": {},
   "outputs": [],
   "source": [
    "targets = web_scraper.scrapeAll()"
   ]
  },
  {
   "cell_type": "markdown",
   "id": "a71486ce-550a-493c-b5cd-79bd931ac42f",
   "metadata": {},
   "source": [
    "So small issue with current implementation, seems like some websites (like the NYT) require users to enable js, etc. Might have to make a scraper for those specific sites. At least in the case of the NYT, they have an API that we could make a scraper around."
   ]
  },
  {
   "cell_type": "code",
   "execution_count": 11,
   "id": "43fd9a1f-d097-4d3a-901f-47fba5947cd9",
   "metadata": {},
   "outputs": [
    {
     "data": {
      "text/plain": [
       "[ClassificationTarget(title='Alarmed by A.I. Chatbots, Universities Start Revamping How They Teach', body='nytimes.complease enable js and disable any ad blocker', tags='NYT'),\n",
       " ClassificationTarget(title='The Chatbot Experiment Just Got Weird', body='nytimes.complease enable js and disable any ad blocker', tags='NYT, Op-Ed'),\n",
       " ClassificationTarget(title='New technology, same old blind spot?', body='nytimes.complease enable js and disable any ad blocker', tags='NYT'),\n",
       " ClassificationTarget(title='Why China Didn’t Invent ChatGPT', body='nytimes.complease enable js and disable any ad blocker', tags='NYT'),\n",
       " ClassificationTarget(title='How ChatGPT Could Embed a ‘Watermark’ in the Text It Generates', body='how chatgpt could embed a ‘watermark’ in the text it generates - the new york times\\nbusiness|how chatgpt could embed a ‘watermark’ in the text it generateshttps://nyti.ms/3yrfieigive this articlegive this articlegive this article155artificial intelligencean unsettling chat with bingread the conversationhow chatbots workspotting a.i.-generated textadvertisementcontinue reading the main storythe comments section is closed.\\nto submit a letter to the editor for publication, write to\\nletters@nytimes.com.\\nhuman\\nwho is lebron james?\\na.i.\\nlebron\\n\\u200a\\njames\\n\\u200a\\nis\\n\\u200a\\nan\\n\\u200a\\namerican\\xa0\\r\\n\\t\\t\\t\\t\\t\\t\\t\\t\\t\\r\\n\\t\\t\\t\\t\\t\\t\\t\\tnba\\xa0\\r\\n\\t\\t\\t\\t\\t\\t\\t\\t\\t\\r\\n\\t\\t\\t\\t\\t\\t\\t\\tprofessional\\xa0\\r\\n\\t\\t\\t\\t\\t\\t\\t\\t\\t\\r\\n\\t\\t\\t\\t\\t\\t\\t\\tall\\xa0\\r\\n\\t\\t\\t\\t\\t\\t\\t\\t\\t\\r\\n\\t\\t\\t\\t\\t\\t\\t\\ticonic\\xa0\\r\\n\\t\\t\\t\\t\\t\\t\\t\\t\\t\\r\\n\\t\\t\\t\\t\\t\\t\\t\\t\\nwhen artificial intelligence software like chatgpt writes, it considers many options for each word, taking into account the response it has written so far and the question being asked.it assigns a score to each option on the list, which quantifies how likely the word is to come next, based on the vast amount of human-written text it has analyzed.chatgpt, which is built on what is known as a large language model, then chooses a word with a high score, and moves on to the next one.the model’s output is often so sophisticated that it can seem like the chatbot understands what it is saying — but it does not.every choice it makes is determined by complex math and huge amounts of data. so much so that it often produces text that is both coherent and accurate.but when chatgpt says something that is untrue, it inherently does not realize it.\\n\\tit may soon become common to encounter a tweet, essay or news article and wonder if it was written by artificial intelligence software. there could be questions over the authorship of a given piece of writing, like in academic settings, or the veracity of its content, in the case of an article. there could also be questions about authenticity: if a misleading idea suddenly appears in posts across the internet, is it spreading organically, or have the posts been generated by a.i. to create the appearance of real traction?\\r\\n\\ttools to identify whether a piece of text was written by a.i. have started to emerge in recent months, including one created by openai, the company behind chatgpt. that tool uses an a.i. model trained to spot differences between generated and human-written text. when openai tested the tool, it correctly identified a.i. text in only about half of the generated writing samples it analyzed. the company said at the time that it had released the experimental detector “to get feedback on whether imperfect tools like this one are useful.”\\r\\n\\tidentifying generated text, experts say, is becoming increasingly difficult as software like chatgpt continues to advance and turns out text that is more convincingly human. openai is now experimenting with a technology that would insert special words into the text that chatgpt generates, making it easier to detect later. the technique is known as watermarking.\\r\\n\\tthe watermarking method that openai is exploring is similar to one described in a recent paper by researchers at the university of maryland, said jan leike, the head of alignment at openai. here is how it works.\\r\\nhuman\\nimagine a list of every word you know, every unique word you might use when writing an essay, email or text message.now imagine that half of those words are on a special list.if you wrote a couple of paragraphs, about half of the words you used would probably be on the special list, statistically speaking. (this text is from a new york times article about serena williams from 2022.)when a language model or chatbot writes, it can insert a watermark by choosing more of the words on the special list than a person would be expected to use.the text here was generated by the researchers at the university of maryland who wrote the watermarking paper. they used a technique that essentially bumped up the scores of the words on the special list, making the generator more likely to use them.when the generator got to this point in the text, it would have chosen the word “the” …… but the word “who” was on the special list, and its score was artificially increased enough to overtake the word “the.”when the generator got here, the words “tuesday,” “thursday” and “friday” were on the special list …… but their scores were not increased so much that they overtook “saturday,” which was by design.for watermarking to work well, it should not overrule an a.i. on its choice of words when it comes to dates or names, to avoid inserting falsehoods. (although, in this case, the a.i. was wrong: ms. williams’s final match was indeed on a friday.)in the end, about 70 percent of the words in the generated text were on the special list — far more than would have been in text written by a person. a detection tool that knew which words were on the special list would be able to tell the difference between generated text and text written by a person.that would be especially helpful for this generated text, as it includes several factual inaccuracies.\\n\\tif someone tried to remove a watermark by editing the text, they would not know which words to change. and even if they managed to change some of the special words, they would most likely only reduce the total percentage by a couple of points.\\r\\n\\ttom goldstein, a professor at the university of maryland and co-author of the watermarking paper, said a watermark could be detected even from “a very short text fragment,” such as a tweet. by contrast, the detection tool openai released requires a minimum of 1,000 characters.\\r\\n\\tlike all approaches to detection, however, watermarking is not perfect, dr. goldstein said. openai’s current detection tool is trained to identify text generated by 34 different language models, while a watermark detector could only identify text that was produced by a model or chatbot that uses the same list of special words as the detector itself. that means that unless companies in the a.i. field agree on a standard watermark implementation, the method could lead to a future where questionable text must be checked against several different watermark detection tools.\\r\\n\\tto make watermarking work well every time in a widely used product like chatgpt, without reducing the quality of its output, would require a lot of engineering, dr. goldstein said. dr. leike of openai said the company was still researching watermarking as a form of detection, and added that it could complement the current tool, since the two “have different strengths and weaknesses.”\\r\\n\\tstill, many experts believe a one-stop tool that can reliably detect all a.i. text with total accuracy may be out of reach. that is partly because tools could emerge that could help remove evidence that a piece of text was generated by a.i. and generated text, even if it is watermarked, would be harder to detect in cases where it makes up only a small portion of a larger piece of writing. experts also say that detection tools, especially those that do not use watermarking, may not recognize generated text if a person has changed it enough.\\r\\n\\t\"i think the idea that there\\'s going to be a magic tool, either created by the vendor of the model or created by an external third party, that\\'s going to take away doubt — i don\\'t think we\\'re going to have the luxury of living in that world,\" said david cox, a director of the mit-ibm watson a.i. lab.\\r\\n\\tsam altman, the chief executive of openai, shared a similar sentiment in an interview with strictlyvc last month.\\r\\n\\t“fundamentally, i think it\\'s impossible to make it perfect,” mr. altman said. “people will figure out how much of the text they have to change. there will be other things that modify the outputted text.”\\r\\n\\tpart of the problem, dr. cox said, is that detection tools themselves present a conundrum, in that they could make it easier to avoid detection. a person could repeatedly edit generated text and check it against a detection tool until the text is identified as human-written — and that process could potentially be automated. detection technology, dr. cox added, will always be a step behind as new language models emerge, and as existing ones advance.\\r\\n\\t“this is always going to have an element of an arms race to it,” he said. “it\\'s always going to be the case that new models will come out and people will develop ways to detect that it\\'s a fake.”\\r\\n\\tsome experts believe that openai and other companies building chatbots should come up with solutions for detection before they release a.i. products, rather than after. openai launched chatgpt at the end of november, for example, but did not release its detection tool until about two months later, at the end of january.\\r\\n\\tby that time, educators and researchers had already been calling for tools to help them identify generated text. many signed up to use a new detection tool, gptzero, which was built by a princeton university student over his winter break and was released on jan. 1.\\r\\n\\t“we’ve heard from an overwhelming number of teachers,” said edward tian, the student who built gptzero. as of mid-february, more than 43,000 teachers had signed up to use the tool, mr. tian said.\\r\\n\\t“generative a.i. is an incredible technology, but for any new innovation we need to build the safeguards for it to be adopted responsibly, not months or years after the release, but immediately when it is released,” mr. tian said.\\r\\nread 155 comments155advertisementcontinue reading the main storysite index', tags='NYT'),\n",
       " ClassificationTarget(title='Microsoft Considers More Limits for Its New A.I. Chatbot', body='nytimes.complease enable js and disable any ad blocker', tags='NYT'),\n",
       " ClassificationTarget(title='Why Chatbots Sometimes Act Weird and Spout Nonsense', body='nytimes.complease enable js and disable any ad blocker', tags='NYT'),\n",
       " ClassificationTarget(title='‘This Is a Secret’', body='nytimes.complease enable js and disable any ad blocker', tags='NYT'),\n",
       " ClassificationTarget(title='A Conversation With Bing’s Chatbot Left Me Deeply Unsettled', body='nytimes.complease enable js and disable any ad blocker', tags='NYT'),\n",
       " ClassificationTarget(title='Bing’s A.I. Chat: ‘I Want to Be Alive. 😈’', body='nytimes.complease enable js and disable any ad blocker', tags='NYT'),\n",
       " ClassificationTarget(title='Bing (Yes, Bing) Just Made Search Interesting Again', body='nytimes.complease enable js and disable any ad blocker', tags='NYT'),\n",
       " ClassificationTarget(title='A Tech Race Begins as Microsoft Adds A.I. to Its Search Engine', body='nytimes.complease enable js and disable any ad blocker', tags='NYT'),\n",
       " ClassificationTarget(title='Disinformation Researchers Raise Alarms About A.I. Chatbots', body='nytimes.complease enable js and disable any ad blocker', tags='NYT'),\n",
       " ClassificationTarget(title='ChatGPT Gets Fresh Competition', body='nytimes.complease enable js and disable any ad blocker', tags='NYT'),\n",
       " ClassificationTarget(title='Meta, Long an A.I. Leader, Tries Not to Be Left Out of the Boom', body='nytimes.complease enable js and disable any ad blocker', tags='NYT'),\n",
       " ClassificationTarget(title='Racing to Catch Up With ChatGPT, Google Plans Release of Its Own Chatbot', body='nytimes.complease enable js and disable any ad blocker', tags='NYT'),\n",
       " ClassificationTarget(title='At This School, Computer Science Class Now Includes Critiquing Chatbots', body='nytimes.complease enable js and disable any ad blocker', tags='NYT'),\n",
       " ClassificationTarget(title='How ChatGPT Kicked Off an A.I. Arms Race', body='nytimes.complease enable js and disable any ad blocker', tags='NYT'),\n",
       " ClassificationTarget(title='OpenAI to Offer New Version of ChatGPT for a $20 Monthly Fee', body='nytimes.complease enable js and disable any ad blocker', tags='NYT'),\n",
       " ClassificationTarget(title='A.I. Bots Can’t Report This Column. But They Can Improve It.', body='nytimes.complease enable js and disable any ad blocker', tags='NYT'),\n",
       " ClassificationTarget(title='How Will Chatbots Change Education?', body='nytimes.complease enable js and disable any ad blocker', tags='NYT, Opinion, Letters'),\n",
       " ClassificationTarget(title='A.I.: Actually Insipid Until It’s Actively Insidious', body='nytimes.complease enable js and disable any ad blocker', tags='NYT, Opinion'),\n",
       " ClassificationTarget(title='OMG! What Will Happen When A.I. Makes BuzzFeed Quizzes?', body='nytimes.complease enable js and disable any ad blocker', tags='NYT'),\n",
       " ClassificationTarget(title='Anthropic, an A.I. Start-Up, Is Said to Be Close to Adding $300 Million', body='nytimes.complease enable js and disable any ad blocker', tags='Borderline off-topic'),\n",
       " ClassificationTarget(title='ChatGPT Wrote (Most of) This Letter', body='nytimes.complease enable js and disable any ad blocker', tags='NYT, Opinion, Letters'),\n",
       " ClassificationTarget(title='Microsoft to Invest $10 Billion in OpenAI, the Creator of ChatGPT', body='nytimes.complease enable js and disable any ad blocker', tags='NYT'),\n",
       " ClassificationTarget(title='I’m a Congressman Who Codes. A.I. Freaks Me Out.', body='nytimes.complease enable js and disable any ad blocker', tags='NYT, Opinion, Guest Essay'),\n",
       " ClassificationTarget(title='How Smart Are the Robots Getting?', body='nytimes.complease enable js and disable any ad blocker', tags='NYT'),\n",
       " ClassificationTarget(title='Google Calls In Help From Larry Page and Sergey Brin for A.I. Fight', body='nytimes.complease enable js and disable any ad blocker', tags='NYT'),\n",
       " ClassificationTarget(title='How ChatGPT Hijacks Democracy', body='nytimes.complease enable js and disable any ad blocker', tags='NYT'),\n",
       " ClassificationTarget(title='Microsoft Bets Big on the Creator of ChatGPT in Race to Dominate A.I.', body='nytimes.complease enable js and disable any ad blocker', tags='NYT'),\n",
       " ClassificationTarget(title='Don’t Ban ChatGPT in Schools. Teach With It.', body='nytimes.complease enable js and disable any ad blocker', tags='NYT'),\n",
       " ClassificationTarget(title='A.I. Is Becoming More Conversational. But Will It Get More Honest?', body='nytimes.complease enable js and disable any ad blocker', tags='NYT'),\n",
       " ClassificationTarget(title='A New Area of A.I. Booms, Even Amid the Tech Gloom', body='nytimes.complease enable js and disable any ad blocker', tags='NYT'),\n",
       " ClassificationTarget(title='The 2022 Good Tech Awards', body='nytimes.complease enable js and disable any ad blocker', tags='NYT, Discusses other tech'),\n",
       " ClassificationTarget(title='The Tech That Will Invade Our Lives in 2023', body='nytimes.complease enable js and disable any ad blocker', tags='NYT, Discusses other tech'),\n",
       " ClassificationTarget(title='Did a Fourth Grader Write This? Or the New Chatbot?', body='did a fourth grader write this? or the new chatbot? - the new york times\\nthe upshot|did a fourth grader write this? or the new chatbot?https://nyti.ms/3giaindgive this articlegive this articlegive this article535artificial intelligencean unsettling chat with bingread the conversationhow chatbots workspotting a.i.-generated textadvertisementcontinue reading the main storythe comments section is closed.\\nto submit a letter to the editor for publication, write to\\nletters@nytimes.com.\\n“i’m just gonna say it’s a student and prepare for my soul to be crushed.”\\n larry buchanan/the new york timesthe upshot did a fourth grader write this? or the new chatbot?\\ndon’t be surprised if you can’t always tell. neither could a fourth-grade teacher — or judy blume.\\nby claire cain miller, adam playford, larry buchanan and aaron krolik dec. 26, 2022\\nit’s hard to fully grasp the enormous potential of chatgpt, a new artificial intelligence chatbot released last month. the bot doesn’t just search and summarize information that already exists. it creates new content, tailored to your request, often with a startling degree of nuance, humor and creativity. most of us have never seen anything like it outside of science fiction.\\nto better understand what chatgpt can do, we decided to see if people could tell the difference between the bot’s writing and a child’s. \\nwe used real essay prompts from the national assessment of educational progress (the standardized test from the department of education, known as the nation’s report card). we asked the bot to produce essays based on those prompts — sometimes with a little coaching, and always telling it to write like a student of the appropriate age. we put what it wrote side by side with sample answers written by real children. \\nwe asked some experts on children’s writing to take our variation on the turing test, live on a call with us. they were a fourth-grade teacher; a professional writing tutor; a stanford education professor; and judy blume, the beloved children’s author. none of them could tell every time whether a child or a bot wrote the essay. see how you do. \\nclick to play\\nread 535 comments535advertisementcontinue reading the main storysite index', tags='NYT'),\n",
       " ClassificationTarget(title='How to Use ChatGPT and Still Be a Good Person', body='nytimes.complease enable js and disable any ad blocker', tags='NYT'),\n",
       " ClassificationTarget(title='A New Chat Bot Is a ‘Code Red’ for Google’s Search Business', body='nytimes.complease enable js and disable any ad blocker', tags='NYT'),\n",
       " ClassificationTarget(title='Human This Christmas', body='nytimes.complease enable js and disable any ad blocker', tags='NYT, Opinion'),\n",
       " ClassificationTarget(title='My So-So Encounters with ChatGPT', body='nytimes.complease enable js and disable any ad blocker', tags='NYT'),\n",
       " ClassificationTarget(title='ChatGPT Has a Devastating Sense of Humor', body='nytimes.complease enable js and disable any ad blocker', tags='NYT, Opinion'),\n",
       " ClassificationTarget(title='Will ChatGPT Make Me Irrelevant?', body='nytimes.complease enable js and disable any ad blocker', tags='NYT, Opinion'),\n",
       " ClassificationTarget(title='What Would Plato Say About ChatGPT?', body='nytimes.complease enable js and disable any ad blocker', tags='NYT, Opinion'),\n",
       " ClassificationTarget(title='The New Chatbots Could Change the World. Can You Trust Them?', body='nytimes.complease enable js and disable any ad blocker', tags='NYT'),\n",
       " ClassificationTarget(title='Does ChatGPT Mean Robots Are Coming For the Skilled Jobs?', body='nytimes.complease enable js and disable any ad blocker', tags='NYT'),\n",
       " ClassificationTarget(title='The Brilliance and Weirdness of ChatGPT', body='nytimes.complease enable js and disable any ad blocker', tags='NYT'),\n",
       " ClassificationTarget(title='What Students Are Saying About ChatGPT', body='nytimes.complease enable js and disable any ad blocker', tags='NYT')]"
      ]
     },
     "execution_count": 11,
     "metadata": {},
     "output_type": "execute_result"
    }
   ],
   "source": [
    "targets"
   ]
  },
  {
   "cell_type": "markdown",
   "id": "898070dd-cf7d-45a3-aab3-0cca8ff96a0c",
   "metadata": {},
   "source": [
    "# Process sentiments"
   ]
  },
  {
   "cell_type": "code",
   "execution_count": 8,
   "id": "8470e9b3-10fc-4f8f-a7ad-3b181d726270",
   "metadata": {},
   "outputs": [],
   "source": [
    "nlper = SentimentClassifier()"
   ]
  },
  {
   "cell_type": "code",
   "execution_count": 9,
   "id": "dc235ef9-4d15-4997-a2f9-607974e72528",
   "metadata": {},
   "outputs": [],
   "source": [
    "results = nlper.processList(targets)"
   ]
  },
  {
   "cell_type": "code",
   "execution_count": 10,
   "id": "8fb77801-5119-4cb8-957f-2ee0c2f61fd4",
   "metadata": {},
   "outputs": [],
   "source": [
    "nlper.dumpResults(\"initial_web_results\", results)"
   ]
  },
  {
   "cell_type": "code",
   "execution_count": null,
   "id": "1b9598b9-9fa5-4960-9c1b-8a17485910dc",
   "metadata": {},
   "outputs": [],
   "source": []
  }
 ],
 "metadata": {
  "kernelspec": {
   "display_name": "Python 3 (ipykernel)",
   "language": "python",
   "name": "python3"
  },
  "language_info": {
   "codemirror_mode": {
    "name": "ipython",
    "version": 3
   },
   "file_extension": ".py",
   "mimetype": "text/x-python",
   "name": "python",
   "nbconvert_exporter": "python",
   "pygments_lexer": "ipython3",
   "version": "3.10.9"
  }
 },
 "nbformat": 4,
 "nbformat_minor": 5
}
